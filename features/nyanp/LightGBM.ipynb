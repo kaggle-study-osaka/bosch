{
 "cells": [
  {
   "cell_type": "code",
   "execution_count": 77,
   "metadata": {},
   "outputs": [],
   "source": [
    "import os\n",
    "import time \n",
    "\n",
    "import numpy as np\n",
    "import pandas as pd\n",
    "import lightgbm as lgb\n",
    "\n",
    "from lightgbm import LGBMModel, LGBMClassifier\n",
    "from contextlib import contextmanager\n",
    "from sklearn.metrics import matthews_corrcoef, roc_auc_score\n",
    "from sklearn.cross_validation import cross_val_score, StratifiedKFold\n",
    "\n",
    "important_indices = np.array([0,23,33,34,36,51,76,121,123,130,139,402,805,831\n",
    ",883,939,1018,1019,1029,1034,1042,1056,1156,1161,1164,1165,1166,1167\n",
    ",1168,1169,1171,1173,1177,1178,1180,1182,1183,1186,1189,1190,1191,1193\n",
    ",1194,1196,1201,1203,1204,1206,1208,1209,1215,1219,1221,1222,1225,1226\n",
    ",1231,1233,1234,1238,1239,1244,1246,1247,1249,1250,1252,1255,1258,1263\n",
    ",1267,1270,1272,1274,1278,1282,1283,1285,1291,1298,1308,1311,1313,1316\n",
    ",1410,1411,1475,1476,1477,1481,1482,1483,1487,1488,1490,1493,1494,1495\n",
    ",1497,1504,1512,1515,1516,1520,1523,1526,1527,1539,1540,1542,1543,1549\n",
    ",1550,1552,1562,1582,1592,1594,1597,1818,1827,1832,1833,1840,1843,1844\n",
    ",1846,1848,1849,1852,1858,1879,1880,1881,1882,1883,1884,1885,1886,1887\n",
    ",1888,1889,1890,1891,1894,1897,1898,1900,1911,1914,1921,1925,1927,1932\n",
    ",1934,1936,1937,1938,1942,1944,1946,1947,1948,1958,1959,1960,1961,1962\n",
    ",1968,1970,1971,1974,1975,1983,1984,1985,1988,1992,1993,1994,1995,1997\n",
    ",1999,2004,2006,2007,2010,2020,2026,2027,2028,2040,2041,2047,2048,2062\n",
    ",2064,2067,2093])\n",
    "\n",
    "features = ['same_to_next_or_prev.f','same_to_next_or_prev_t.f', 'timediff.f']\n",
    "\n",
    "@contextmanager\n",
    "def timer(name):\n",
    "    t0 = time.time()\n",
    "    yield\n",
    "    print('[{}] done in {} s'.format(time.time(), time.time() - t0))\n",
    "\n",
    "def add_features(df, features):\n",
    "    for f in features:\n",
    "        df_feat = pd.read_feather(f)\n",
    "        df = pd.merge(df, df_feat, on='Id', how='left')\n",
    "    return df\n",
    "\n",
    "def make_data(df_date, df_numeric, important_indices, features):\n",
    "    N_DATE_FEATURES = 1156\n",
    "\n",
    "    x = pd.concat([\n",
    "        pd.read_csv(df_date, index_col=0, dtype=np.float32,\n",
    "                    usecols=np.concatenate([[0], important_indices[important_indices < N_DATE_FEATURES] + 1])),\n",
    "        pd.read_csv(df_numeric, index_col=0, dtype=np.float32,\n",
    "                    usecols=np.concatenate([[0], important_indices[important_indices >= N_DATE_FEATURES] + 1 - N_DATE_FEATURES]))\n",
    "    ], axis=1)  \n",
    "    x.reset_index(inplace=True)\n",
    "    x = add_features(x, features)\n",
    "    x.set_index('Id', inplace=True)\n",
    "    \n",
    "    if 'index' in x:\n",
    "        print('remove index')\n",
    "        x.drop('index', axis=1, inplace=True)\n",
    "    return x"
   ]
  },
  {
   "cell_type": "code",
   "execution_count": 78,
   "metadata": {},
   "outputs": [
    {
     "name": "stderr",
     "output_type": "stream",
     "text": [
      "C:\\Users\\noumi\\AppData\\Local\\conda\\conda\\envs\\tensorflow\\lib\\site-packages\\numpy\\lib\\arraysetops.py:472: FutureWarning: elementwise comparison failed; returning scalar instead, but in the future will perform elementwise comparison\n",
      "  mask |= (ar1 == a)\n"
     ]
    },
    {
     "name": "stdout",
     "output_type": "stream",
     "text": [
      "remove index\n",
      "remove index\n",
      "[1531323177.194281] done in 138.35566115379333 s\n"
     ]
    }
   ],
   "source": [
    "with timer(\"load data\"):\n",
    "    x_train = make_data(\"../input/train_date.csv\", \"../input/train_numeric.csv\", important_indices, features)\n",
    "    x_test  = make_data(\"../input/test_date.csv\", \"../input/test_numeric.csv\", important_indices, features)\n",
    "    y_train = pd.read_csv(\"../input/train_numeric.csv\", index_col=0, dtype=np.float32, usecols=[0,969]).values.ravel()"
   ]
  },
  {
   "cell_type": "code",
   "execution_count": 79,
   "metadata": {},
   "outputs": [
    {
     "name": "stdout",
     "output_type": "stream",
     "text": [
      "Training until validation scores don't improve for 50 rounds.\n",
      "[50]\tvalid_0's binary_logloss: 0.131376\n",
      "[100]\tvalid_0's binary_logloss: 0.0447437\n",
      "[150]\tvalid_0's binary_logloss: 0.0283912\n",
      "[200]\tvalid_0's binary_logloss: 0.0251716\n",
      "[250]\tvalid_0's binary_logloss: 0.024562\n",
      "[300]\tvalid_0's binary_logloss: 0.0244078\n",
      "[350]\tvalid_0's binary_logloss: 0.0243669\n",
      "[400]\tvalid_0's binary_logloss: 0.0243522\n",
      "[450]\tvalid_0's binary_logloss: 0.0243354\n",
      "[500]\tvalid_0's binary_logloss: 0.0243265\n",
      "Did not meet early stopping. Best iteration is:\n",
      "[499]\tvalid_0's binary_logloss: 0.0243263\n",
      "fold 0, ROC AUC: 0.880\n",
      "Training until validation scores don't improve for 50 rounds.\n",
      "[50]\tvalid_0's binary_logloss: 0.131567\n",
      "[100]\tvalid_0's binary_logloss: 0.0449515\n",
      "[150]\tvalid_0's binary_logloss: 0.0285198\n",
      "[200]\tvalid_0's binary_logloss: 0.025083\n",
      "[250]\tvalid_0's binary_logloss: 0.0244258\n",
      "[300]\tvalid_0's binary_logloss: 0.0242286\n",
      "[350]\tvalid_0's binary_logloss: 0.0241848\n",
      "[400]\tvalid_0's binary_logloss: 0.0241683\n",
      "[450]\tvalid_0's binary_logloss: 0.0241571\n",
      "[500]\tvalid_0's binary_logloss: 0.0241559\n",
      "Did not meet early stopping. Best iteration is:\n",
      "[499]\tvalid_0's binary_logloss: 0.0241544\n",
      "fold 1, ROC AUC: 0.890\n",
      "Training until validation scores don't improve for 50 rounds.\n",
      "[50]\tvalid_0's binary_logloss: 0.131613\n",
      "[100]\tvalid_0's binary_logloss: 0.0450487\n",
      "[150]\tvalid_0's binary_logloss: 0.0286268\n",
      "[200]\tvalid_0's binary_logloss: 0.0252992\n",
      "[250]\tvalid_0's binary_logloss: 0.0247045\n",
      "[300]\tvalid_0's binary_logloss: 0.0245048\n",
      "[350]\tvalid_0's binary_logloss: 0.0244762\n",
      "[400]\tvalid_0's binary_logloss: 0.0244363\n",
      "[450]\tvalid_0's binary_logloss: 0.0244258\n",
      "[500]\tvalid_0's binary_logloss: 0.0244141\n",
      "Did not meet early stopping. Best iteration is:\n",
      "[495]\tvalid_0's binary_logloss: 0.0244126\n",
      "fold 2, ROC AUC: 0.881\n",
      "Training until validation scores don't improve for 50 rounds.\n",
      "[50]\tvalid_0's binary_logloss: 0.131622\n",
      "[100]\tvalid_0's binary_logloss: 0.0453042\n",
      "[150]\tvalid_0's binary_logloss: 0.0291755\n",
      "[200]\tvalid_0's binary_logloss: 0.0260967\n",
      "[250]\tvalid_0's binary_logloss: 0.0255918\n",
      "[300]\tvalid_0's binary_logloss: 0.0254831\n",
      "[350]\tvalid_0's binary_logloss: 0.0254644\n",
      "[400]\tvalid_0's binary_logloss: 0.0254476\n",
      "[450]\tvalid_0's binary_logloss: 0.0254287\n",
      "[500]\tvalid_0's binary_logloss: 0.0254111\n",
      "Did not meet early stopping. Best iteration is:\n",
      "[500]\tvalid_0's binary_logloss: 0.0254111\n",
      "fold 3, ROC AUC: 0.869\n",
      "Training until validation scores don't improve for 50 rounds.\n",
      "[50]\tvalid_0's binary_logloss: 0.131471\n",
      "[100]\tvalid_0's binary_logloss: 0.0448345\n",
      "[150]\tvalid_0's binary_logloss: 0.0283649\n",
      "[200]\tvalid_0's binary_logloss: 0.0251242\n",
      "[250]\tvalid_0's binary_logloss: 0.0245423\n",
      "[300]\tvalid_0's binary_logloss: 0.0244106\n",
      "[350]\tvalid_0's binary_logloss: 0.0243806\n",
      "[400]\tvalid_0's binary_logloss: 0.0243701\n",
      "[450]\tvalid_0's binary_logloss: 0.0243565\n",
      "[500]\tvalid_0's binary_logloss: 0.0243575\n",
      "Did not meet early stopping. Best iteration is:\n",
      "[477]\tvalid_0's binary_logloss: 0.0243548\n",
      "fold 4, ROC AUC: 0.879\n",
      "0.8798435212796485\n",
      "[1531324115.521749] done in 697.6544969081879 s\n"
     ]
    }
   ],
   "source": [
    "lgbparams = {\n",
    "    'max_depth' : 6,\n",
    "    'num_leaves' : 48,\n",
    "    'learning_rate' : 0.03,\n",
    "    'n_estimators' : 500,\n",
    "    'min_child_samples' : 100,\n",
    "    'colsample_bytree' : 0.5,\n",
    "    'objective' : 'binary',\n",
    "    'reg_alpha' : 0.1,\n",
    "    'reg_lambda' : 1.0,\n",
    "    'seed' : 0\n",
    "}\n",
    "\n",
    "with timer(\"cross validation\"):\n",
    "    n_folds=5\n",
    "    \n",
    "    cv = StratifiedKFold(y_train, n_folds)\n",
    "    clfs = []\n",
    "    preds_oof  = np.ones(y_train.shape[0])\n",
    "    preds_test = np.empty((n_folds, x_test.shape[0]))\n",
    "\n",
    "    for i, (train, valid) in enumerate(cv):\n",
    "        clf = LGBMClassifier(**lgbparams)\n",
    "        clf.fit(x_train.iloc[train], \n",
    "                y_train[train], \n",
    "                eval_set=[(x_train.iloc[valid], y_train[valid])], \n",
    "                early_stopping_rounds=50, \n",
    "                verbose=50)\n",
    "        preds_oof[valid] = clf.predict_proba(x_train.iloc[valid])[:,1]\n",
    "        preds_test[i, :] = clf.predict_proba(x_test)[:,1]\n",
    "        \n",
    "        print(\"fold {}, ROC AUC: {:.3f}\".format(i, roc_auc_score(y_train[valid], preds_oof[valid])))\n",
    "        clfs.append(clf)\n",
    "    print(roc_auc_score(y_train, preds_oof))\n"
   ]
  },
  {
   "cell_type": "code",
   "execution_count": 82,
   "metadata": {},
   "outputs": [
    {
     "name": "stdout",
     "output_type": "stream",
     "text": [
      "0.39122061755776705\n",
      "[1531324247.0506814] done in 43.371464252471924 s\n"
     ]
    },
    {
     "data": {
      "image/png": "[encoded data removed]",
      "text/plain": [
       "<matplotlib.figure.Figure at 0x18d9a2bb978>"
      ]
     },
     "metadata": {},
     "output_type": "display_data"
    }
   ],
   "source": [
    "import matplotlib.pyplot as plt\n",
    "%matplotlib inline\n",
    "\n",
    "with timer(\"mcc maximization\"):\n",
    "    # pick the best threshold out-of-fold\n",
    "    thresholds = np.linspace(0.01, 0.99, 50)\n",
    "    mcc = np.array([matthews_corrcoef(y_train, preds_oof>thr) for thr in thresholds])\n",
    "    plt.plot(thresholds, mcc)\n",
    "    best_threshold = thresholds[mcc.argmax()]\n",
    "    print(mcc.max())"
   ]
  },
  {
   "cell_type": "code",
   "execution_count": 83,
   "metadata": {},
   "outputs": [
    {
     "name": "stdout",
     "output_type": "stream",
     "text": [
      "[1531324250.180313] done in 3.0628104209899902 s\n"
     ]
    }
   ],
   "source": [
    "with timer(\"submit prediction\"):\n",
    "    preds = preds_test.mean(axis=0)\n",
    "    sub = pd.read_csv('../input/sample_submission.csv')\n",
    "    sub['Response'] = preds > best_threshold\n",
    "    sub['Response'] = sub['Response'].astype(np.int32)\n",
    "    sub.to_csv('../output/lgb_private0.41291.csv',index=False)\n"
   ]
  },
  {
   "cell_type": "code",
   "execution_count": 84,
   "metadata": {},
   "outputs": [
    {
     "data": {
      "text/plain": [
       "[(1086, 'mean_diff_m1'),\n",
       " (330, 'L3_S33_D3856'),\n",
       " (301, 'L3_S33_F3865'),\n",
       " (301, 'mean_num'),\n",
       " (286, 'L3_S29_D3316'),\n",
       " (284, 'L3_S34_D3875'),\n",
       " (267, 'L3_S33_F3857'),\n",
       " (260, 'L3_S30_F3704'),\n",
       " (260, 'prev_failed_t'),\n",
       " (245, 'L3_S33_F3859'),\n",
       " (223, 'same_to_prev'),\n",
       " (221, 'L3_S29_D3474'),\n",
       " (215, 'mean_diff_p1'),\n",
       " (206, 'L3_S29_F3351'),\n",
       " (189, 'L3_S30_F3774'),\n",
       " (188, 'L3_S30_F3759'),\n",
       " (185, 'L3_S30_F3809'),\n",
       " (183, 'L3_S32_D3852'),\n",
       " (181, 'S2_td'),\n",
       " (165, 'L3_S29_F3348'),\n",
       " (165, 'S3_td'),\n",
       " (163, 'L3_S30_F3754'),\n",
       " (161, 'L3_S30_F3749'),\n",
       " (156, 'L3_S30_F3574'),\n",
       " (153, 'L3_S30_F3804'),\n",
       " (152, 'L3_S30_F3829'),\n",
       " (151, 'L3_S30_F3554'),\n",
       " (150, 'L3_S29_F3479'),\n",
       " (147, 'prev_failed'),\n",
       " (143, 'L3_S29_F3342'),\n",
       " (140, 'same_to_next'),\n",
       " (138, 'L3_S29_F3339'),\n",
       " (136, 'L1_S24_F1723'),\n",
       " (134, 'L3_S29_F3373'),\n",
       " (130, 'L3_S29_F3345'),\n",
       " (130, 'L3_S30_F3494'),\n",
       " (128, 'L0_S0_F20'),\n",
       " (128, 'L3_S36_F3920'),\n",
       " (127, 'L3_S29_F3327'),\n",
       " (124, 'L1_S24_F1846')]"
      ]
     },
     "execution_count": 84,
     "metadata": {},
     "output_type": "execute_result"
    }
   ],
   "source": [
    "# feature ranking\n",
    "fi = list(zip(clf.feature_importances_, x_train.columns.tolist()))\n",
    "fi.sort(key=lambda tup: -tup[0]) \n",
    "fi[:40]"
   ]
  },
  {
   "cell_type": "code",
   "execution_count": 72,
   "metadata": {},
   "outputs": [],
   "source": [
    "train_index = pd.read_csv('../input/train_numeric.csv', index_col=0, dtype=np.int32, usecols=[0]).reset_index()\n",
    "\n",
    "def to_csv(df, train_ids, filename):\n",
    "    df_train = df[df['Id'].isin(train_ids)]\n",
    "    df_test = df[~df['Id'].isin(train_ids)]\n",
    "    \n",
    "    df_train.to_csv('train_'+filename+'.csv', index=False)\n",
    "    df_test.to_csv('test_'+filename+'.csv', index=False)\n",
    "    \n",
    "f = pd.read_feather(features[0])    \n",
    "f.rename(columns={'mean_diff_p1':'diff2next', 'mean_diff_m1':'diff2prev'}, inplace=True)\n",
    "\n",
    "to_csv(f[['Id','diff2prev','diff2next']], train_index['Id'], 'diff2adj')\n",
    "to_csv(f[['Id','mean_num']], train_index['Id'], 'mean_num')\n",
    "to_csv(f[['Id','prev_failed','next_failed']], train_index['Id'], 'adj_failed')\n",
    "\n",
    "f2 = pd.read_feather(features[1])\n",
    "to_csv(f2[['Id','prev_failed_t','next_failed_t']], train_index['Id'], 'adj_failed_t')\n",
    "\n",
    "f3 = pd.read_feather(features[2])\n",
    "f3.rename(columns={'S1_td':'time_diff_S1',\n",
    "                  'S2_td':'time_diff_S2',\n",
    "                  'S3_td':'time_diff_S3',\n",
    "                  'S4_td':'time_diff_S4',\n",
    "                  'S5_td':'time_diff_S5',\n",
    "                  'S24_td':'time_diff_S24',\n",
    "                  'S25_td':'time_diff_S25'}, inplace=True)\n",
    "to_csv(f3, train_index['Id'], 'time_diff')\n"
   ]
  }
 ],
 "metadata": {
  "kernelspec": {
   "display_name": "Python 3",
   "language": "python",
   "name": "python3"
  },
  "language_info": {
   "codemirror_mode": {
    "name": "ipython",
    "version": 3
   },
   "file_extension": ".py",
   "mimetype": "text/x-python",
   "name": "python",
   "nbconvert_exporter": "python",
   "pygments_lexer": "ipython3",
   "version": "3.5.4"
  }
 },
 "nbformat": 4,
 "nbformat_minor": 2
}
