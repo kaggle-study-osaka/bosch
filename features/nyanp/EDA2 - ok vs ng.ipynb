{
 "cells": [
  {
   "cell_type": "markdown",
   "metadata": {},
   "source": [
    "# Bosch EDA - Response 1 vs 0\n",
    "ターゲット変数1, 0の違いによるデータの差が無いか色々見てみるEDA。\n",
    "特に、\n",
    "\n",
    "- Response == 1の時に固有のパターンは無いか\n",
    "- Response == 1の出方に偏りは無いか\n",
    "    - 不良品は連続する、とか\n",
    "    - 特定の曜日に不良が続く、とか\n",
    "\n",
    "あたりを掘り下げる。"
   ]
  },
  {
   "cell_type": "code",
   "execution_count": 9,
   "metadata": {},
   "outputs": [],
   "source": [
    "import pandas as pd\n",
    "import numpy as np\n",
    "import seaborn as sns\n",
    "import matplotlib.pyplot as plt\n",
    "%matplotlib inline\n",
    "\n",
    "df_num = pd.read_csv(\"../input/train_numeric.csv\", index_col=0, nrows=100000)\n",
    "\n",
    "fail = df_num[df_num.Response == 1]\n",
    "ok = df_num[df_num.Response == 0]\n",
    "\n",
    "fail.to_csv('fail_head100k.csv') # 不良の数は少ないので、別途Excelで全件眺める\n",
    "\n",
    "df_date = pd.read_csv('../input/train_date.csv', index_col=0, nrows=100000)"
   ]
  },
  {
   "cell_type": "markdown",
   "metadata": {},
   "source": [
    "## 全体の傾向"
   ]
  },
  {
   "cell_type": "code",
   "execution_count": 10,
   "metadata": {},
   "outputs": [
    {
     "data": {
      "text/html": [
       "<div>\n",
       "<style scoped>\n",
       "    .dataframe tbody tr th:only-of-type {\n",
       "        vertical-align: middle;\n",
       "    }\n",
       "\n",
       "    .dataframe tbody tr th {\n",
       "        vertical-align: top;\n",
       "    }\n",
       "\n",
       "    .dataframe thead th {\n",
       "        text-align: right;\n",
       "    }\n",
       "</style>\n",
       "<table border=\"1\" class=\"dataframe\">\n",
       "  <thead>\n",
       "    <tr style=\"text-align: right;\">\n",
       "      <th></th>\n",
       "      <th>L0_S0_F0</th>\n",
       "      <th>L0_S0_F2</th>\n",
       "      <th>L0_S0_F4</th>\n",
       "      <th>L0_S0_F6</th>\n",
       "      <th>L0_S0_F8</th>\n",
       "      <th>L0_S0_F10</th>\n",
       "      <th>L0_S0_F12</th>\n",
       "      <th>L0_S0_F14</th>\n",
       "      <th>L0_S0_F16</th>\n",
       "      <th>L0_S0_F18</th>\n",
       "      <th>...</th>\n",
       "      <th>L3_S50_F4245</th>\n",
       "      <th>L3_S50_F4247</th>\n",
       "      <th>L3_S50_F4249</th>\n",
       "      <th>L3_S50_F4251</th>\n",
       "      <th>L3_S50_F4253</th>\n",
       "      <th>L3_S51_F4256</th>\n",
       "      <th>L3_S51_F4258</th>\n",
       "      <th>L3_S51_F4260</th>\n",
       "      <th>L3_S51_F4262</th>\n",
       "      <th>Response</th>\n",
       "    </tr>\n",
       "  </thead>\n",
       "  <tbody>\n",
       "    <tr>\n",
       "      <th>count</th>\n",
       "      <td>290.000000</td>\n",
       "      <td>290.000000</td>\n",
       "      <td>290.000000</td>\n",
       "      <td>290.000000</td>\n",
       "      <td>290.000000</td>\n",
       "      <td>290.000000</td>\n",
       "      <td>290.000000</td>\n",
       "      <td>290.000000</td>\n",
       "      <td>290.000000</td>\n",
       "      <td>290.000000</td>\n",
       "      <td>...</td>\n",
       "      <td>14.0</td>\n",
       "      <td>14.0</td>\n",
       "      <td>14.0</td>\n",
       "      <td>14.0</td>\n",
       "      <td>14.000000</td>\n",
       "      <td>24.000000</td>\n",
       "      <td>24.0</td>\n",
       "      <td>24.0</td>\n",
       "      <td>24.0</td>\n",
       "      <td>568.0</td>\n",
       "    </tr>\n",
       "    <tr>\n",
       "      <th>mean</th>\n",
       "      <td>0.000969</td>\n",
       "      <td>0.001076</td>\n",
       "      <td>-0.022221</td>\n",
       "      <td>-0.021572</td>\n",
       "      <td>0.002434</td>\n",
       "      <td>-0.011207</td>\n",
       "      <td>-0.000745</td>\n",
       "      <td>-0.003586</td>\n",
       "      <td>-0.008610</td>\n",
       "      <td>-0.005893</td>\n",
       "      <td>...</td>\n",
       "      <td>0.0</td>\n",
       "      <td>0.0</td>\n",
       "      <td>0.0</td>\n",
       "      <td>0.0</td>\n",
       "      <td>0.071429</td>\n",
       "      <td>-0.000042</td>\n",
       "      <td>0.0</td>\n",
       "      <td>0.0</td>\n",
       "      <td>0.0</td>\n",
       "      <td>1.0</td>\n",
       "    </tr>\n",
       "    <tr>\n",
       "      <th>std</th>\n",
       "      <td>0.072820</td>\n",
       "      <td>0.081744</td>\n",
       "      <td>0.194006</td>\n",
       "      <td>0.196250</td>\n",
       "      <td>0.095795</td>\n",
       "      <td>0.169366</td>\n",
       "      <td>0.017877</td>\n",
       "      <td>0.097347</td>\n",
       "      <td>0.114784</td>\n",
       "      <td>0.109608</td>\n",
       "      <td>...</td>\n",
       "      <td>0.0</td>\n",
       "      <td>0.0</td>\n",
       "      <td>0.0</td>\n",
       "      <td>0.0</td>\n",
       "      <td>0.248623</td>\n",
       "      <td>0.000204</td>\n",
       "      <td>0.0</td>\n",
       "      <td>0.0</td>\n",
       "      <td>0.0</td>\n",
       "      <td>0.0</td>\n",
       "    </tr>\n",
       "    <tr>\n",
       "      <th>min</th>\n",
       "      <td>-0.232000</td>\n",
       "      <td>-0.272000</td>\n",
       "      <td>-0.379000</td>\n",
       "      <td>-0.379000</td>\n",
       "      <td>-0.360000</td>\n",
       "      <td>-0.521000</td>\n",
       "      <td>-0.044000</td>\n",
       "      <td>-0.232000</td>\n",
       "      <td>-0.286000</td>\n",
       "      <td>-0.329000</td>\n",
       "      <td>...</td>\n",
       "      <td>0.0</td>\n",
       "      <td>0.0</td>\n",
       "      <td>0.0</td>\n",
       "      <td>0.0</td>\n",
       "      <td>-0.250000</td>\n",
       "      <td>-0.001000</td>\n",
       "      <td>0.0</td>\n",
       "      <td>0.0</td>\n",
       "      <td>0.0</td>\n",
       "      <td>1.0</td>\n",
       "    </tr>\n",
       "    <tr>\n",
       "      <th>25%</th>\n",
       "      <td>-0.036000</td>\n",
       "      <td>-0.049000</td>\n",
       "      <td>-0.179000</td>\n",
       "      <td>-0.179000</td>\n",
       "      <td>-0.056000</td>\n",
       "      <td>-0.112000</td>\n",
       "      <td>-0.015000</td>\n",
       "      <td>-0.072000</td>\n",
       "      <td>-0.092000</td>\n",
       "      <td>-0.086750</td>\n",
       "      <td>...</td>\n",
       "      <td>0.0</td>\n",
       "      <td>0.0</td>\n",
       "      <td>0.0</td>\n",
       "      <td>0.0</td>\n",
       "      <td>-0.250000</td>\n",
       "      <td>0.000000</td>\n",
       "      <td>0.0</td>\n",
       "      <td>0.0</td>\n",
       "      <td>0.0</td>\n",
       "      <td>1.0</td>\n",
       "    </tr>\n",
       "    <tr>\n",
       "      <th>50%</th>\n",
       "      <td>0.003000</td>\n",
       "      <td>0.004000</td>\n",
       "      <td>-0.033000</td>\n",
       "      <td>-0.034000</td>\n",
       "      <td>0.031000</td>\n",
       "      <td>0.025000</td>\n",
       "      <td>0.000000</td>\n",
       "      <td>-0.032000</td>\n",
       "      <td>-0.005000</td>\n",
       "      <td>-0.000500</td>\n",
       "      <td>...</td>\n",
       "      <td>0.0</td>\n",
       "      <td>0.0</td>\n",
       "      <td>0.0</td>\n",
       "      <td>0.0</td>\n",
       "      <td>0.250000</td>\n",
       "      <td>0.000000</td>\n",
       "      <td>0.0</td>\n",
       "      <td>0.0</td>\n",
       "      <td>0.0</td>\n",
       "      <td>1.0</td>\n",
       "    </tr>\n",
       "    <tr>\n",
       "      <th>75%</th>\n",
       "      <td>0.043000</td>\n",
       "      <td>0.056000</td>\n",
       "      <td>0.003000</td>\n",
       "      <td>0.003000</td>\n",
       "      <td>0.074000</td>\n",
       "      <td>0.116000</td>\n",
       "      <td>0.015000</td>\n",
       "      <td>0.048000</td>\n",
       "      <td>0.066000</td>\n",
       "      <td>0.067000</td>\n",
       "      <td>...</td>\n",
       "      <td>0.0</td>\n",
       "      <td>0.0</td>\n",
       "      <td>0.0</td>\n",
       "      <td>0.0</td>\n",
       "      <td>0.250000</td>\n",
       "      <td>0.000000</td>\n",
       "      <td>0.0</td>\n",
       "      <td>0.0</td>\n",
       "      <td>0.0</td>\n",
       "      <td>1.0</td>\n",
       "    </tr>\n",
       "    <tr>\n",
       "      <th>max</th>\n",
       "      <td>0.226000</td>\n",
       "      <td>0.250000</td>\n",
       "      <td>0.367000</td>\n",
       "      <td>0.366000</td>\n",
       "      <td>0.248000</td>\n",
       "      <td>0.206000</td>\n",
       "      <td>0.059000</td>\n",
       "      <td>0.368000</td>\n",
       "      <td>0.296000</td>\n",
       "      <td>0.430000</td>\n",
       "      <td>...</td>\n",
       "      <td>0.0</td>\n",
       "      <td>0.0</td>\n",
       "      <td>0.0</td>\n",
       "      <td>0.0</td>\n",
       "      <td>0.250000</td>\n",
       "      <td>0.000000</td>\n",
       "      <td>0.0</td>\n",
       "      <td>0.0</td>\n",
       "      <td>0.0</td>\n",
       "      <td>1.0</td>\n",
       "    </tr>\n",
       "  </tbody>\n",
       "</table>\n",
       "<p>8 rows × 969 columns</p>\n",
       "</div>"
      ],
      "text/plain": [
       "         L0_S0_F0    L0_S0_F2    L0_S0_F4    L0_S0_F6    L0_S0_F8   L0_S0_F10  \\\n",
       "count  290.000000  290.000000  290.000000  290.000000  290.000000  290.000000   \n",
       "mean     0.000969    0.001076   -0.022221   -0.021572    0.002434   -0.011207   \n",
       "std      0.072820    0.081744    0.194006    0.196250    0.095795    0.169366   \n",
       "min     -0.232000   -0.272000   -0.379000   -0.379000   -0.360000   -0.521000   \n",
       "25%     -0.036000   -0.049000   -0.179000   -0.179000   -0.056000   -0.112000   \n",
       "50%      0.003000    0.004000   -0.033000   -0.034000    0.031000    0.025000   \n",
       "75%      0.043000    0.056000    0.003000    0.003000    0.074000    0.116000   \n",
       "max      0.226000    0.250000    0.367000    0.366000    0.248000    0.206000   \n",
       "\n",
       "        L0_S0_F12   L0_S0_F14   L0_S0_F16   L0_S0_F18    ...     L3_S50_F4245  \\\n",
       "count  290.000000  290.000000  290.000000  290.000000    ...             14.0   \n",
       "mean    -0.000745   -0.003586   -0.008610   -0.005893    ...              0.0   \n",
       "std      0.017877    0.097347    0.114784    0.109608    ...              0.0   \n",
       "min     -0.044000   -0.232000   -0.286000   -0.329000    ...              0.0   \n",
       "25%     -0.015000   -0.072000   -0.092000   -0.086750    ...              0.0   \n",
       "50%      0.000000   -0.032000   -0.005000   -0.000500    ...              0.0   \n",
       "75%      0.015000    0.048000    0.066000    0.067000    ...              0.0   \n",
       "max      0.059000    0.368000    0.296000    0.430000    ...              0.0   \n",
       "\n",
       "       L3_S50_F4247  L3_S50_F4249  L3_S50_F4251  L3_S50_F4253  L3_S51_F4256  \\\n",
       "count          14.0          14.0          14.0     14.000000     24.000000   \n",
       "mean            0.0           0.0           0.0      0.071429     -0.000042   \n",
       "std             0.0           0.0           0.0      0.248623      0.000204   \n",
       "min             0.0           0.0           0.0     -0.250000     -0.001000   \n",
       "25%             0.0           0.0           0.0     -0.250000      0.000000   \n",
       "50%             0.0           0.0           0.0      0.250000      0.000000   \n",
       "75%             0.0           0.0           0.0      0.250000      0.000000   \n",
       "max             0.0           0.0           0.0      0.250000      0.000000   \n",
       "\n",
       "       L3_S51_F4258  L3_S51_F4260  L3_S51_F4262  Response  \n",
       "count          24.0          24.0          24.0     568.0  \n",
       "mean            0.0           0.0           0.0       1.0  \n",
       "std             0.0           0.0           0.0       0.0  \n",
       "min             0.0           0.0           0.0       1.0  \n",
       "25%             0.0           0.0           0.0       1.0  \n",
       "50%             0.0           0.0           0.0       1.0  \n",
       "75%             0.0           0.0           0.0       1.0  \n",
       "max             0.0           0.0           0.0       1.0  \n",
       "\n",
       "[8 rows x 969 columns]"
      ]
     },
     "execution_count": 10,
     "metadata": {},
     "output_type": "execute_result"
    }
   ],
   "source": [
    "fail.describe()"
   ]
  },
  {
   "cell_type": "code",
   "execution_count": 11,
   "metadata": {},
   "outputs": [
    {
     "data": {
      "text/html": [
       "<div>\n",
       "<style scoped>\n",
       "    .dataframe tbody tr th:only-of-type {\n",
       "        vertical-align: middle;\n",
       "    }\n",
       "\n",
       "    .dataframe tbody tr th {\n",
       "        vertical-align: top;\n",
       "    }\n",
       "\n",
       "    .dataframe thead th {\n",
       "        text-align: right;\n",
       "    }\n",
       "</style>\n",
       "<table border=\"1\" class=\"dataframe\">\n",
       "  <thead>\n",
       "    <tr style=\"text-align: right;\">\n",
       "      <th></th>\n",
       "      <th>L0_S0_F0</th>\n",
       "      <th>L0_S0_F2</th>\n",
       "      <th>L0_S0_F4</th>\n",
       "      <th>L0_S0_F6</th>\n",
       "      <th>L0_S0_F8</th>\n",
       "      <th>L0_S0_F10</th>\n",
       "      <th>L0_S0_F12</th>\n",
       "      <th>L0_S0_F14</th>\n",
       "      <th>L0_S0_F16</th>\n",
       "      <th>L0_S0_F18</th>\n",
       "      <th>...</th>\n",
       "      <th>L3_S50_F4245</th>\n",
       "      <th>L3_S50_F4247</th>\n",
       "      <th>L3_S50_F4249</th>\n",
       "      <th>L3_S50_F4251</th>\n",
       "      <th>L3_S50_F4253</th>\n",
       "      <th>L3_S51_F4256</th>\n",
       "      <th>L3_S51_F4258</th>\n",
       "      <th>L3_S51_F4260</th>\n",
       "      <th>L3_S51_F4262</th>\n",
       "      <th>Response</th>\n",
       "    </tr>\n",
       "  </thead>\n",
       "  <tbody>\n",
       "    <tr>\n",
       "      <th>count</th>\n",
       "      <td>57625.000000</td>\n",
       "      <td>57625.000000</td>\n",
       "      <td>57625.000000</td>\n",
       "      <td>57625.000000</td>\n",
       "      <td>57625.000000</td>\n",
       "      <td>57625.000000</td>\n",
       "      <td>57625.000000</td>\n",
       "      <td>57625.000000</td>\n",
       "      <td>57625.00000</td>\n",
       "      <td>57625.000000</td>\n",
       "      <td>...</td>\n",
       "      <td>2650.000000</td>\n",
       "      <td>2650.000000</td>\n",
       "      <td>2650.000000</td>\n",
       "      <td>2650.000000</td>\n",
       "      <td>2650.000000</td>\n",
       "      <td>5171.000000</td>\n",
       "      <td>5171.000000</td>\n",
       "      <td>5171.000000</td>\n",
       "      <td>5171.000000</td>\n",
       "      <td>99432.0</td>\n",
       "    </tr>\n",
       "    <tr>\n",
       "      <th>mean</th>\n",
       "      <td>-0.001844</td>\n",
       "      <td>-0.002575</td>\n",
       "      <td>0.000018</td>\n",
       "      <td>-0.000017</td>\n",
       "      <td>0.001013</td>\n",
       "      <td>0.003915</td>\n",
       "      <td>0.000341</td>\n",
       "      <td>0.002141</td>\n",
       "      <td>-0.00143</td>\n",
       "      <td>-0.000926</td>\n",
       "      <td>...</td>\n",
       "      <td>-0.000003</td>\n",
       "      <td>0.000014</td>\n",
       "      <td>0.000471</td>\n",
       "      <td>0.000154</td>\n",
       "      <td>0.002264</td>\n",
       "      <td>-0.000009</td>\n",
       "      <td>0.000392</td>\n",
       "      <td>0.000490</td>\n",
       "      <td>0.000064</td>\n",
       "      <td>0.0</td>\n",
       "    </tr>\n",
       "    <tr>\n",
       "      <th>std</th>\n",
       "      <td>0.080422</td>\n",
       "      <td>0.093156</td>\n",
       "      <td>0.211186</td>\n",
       "      <td>0.211341</td>\n",
       "      <td>0.093139</td>\n",
       "      <td>0.161735</td>\n",
       "      <td>0.019368</td>\n",
       "      <td>0.104159</td>\n",
       "      <td>0.11544</td>\n",
       "      <td>0.113331</td>\n",
       "      <td>...</td>\n",
       "      <td>0.000055</td>\n",
       "      <td>0.000248</td>\n",
       "      <td>0.017925</td>\n",
       "      <td>0.001880</td>\n",
       "      <td>0.250037</td>\n",
       "      <td>0.000094</td>\n",
       "      <td>0.019665</td>\n",
       "      <td>0.012083</td>\n",
       "      <td>0.001178</td>\n",
       "      <td>0.0</td>\n",
       "    </tr>\n",
       "    <tr>\n",
       "      <th>min</th>\n",
       "      <td>-0.402000</td>\n",
       "      <td>-0.474000</td>\n",
       "      <td>-0.397000</td>\n",
       "      <td>-0.416000</td>\n",
       "      <td>-0.404000</td>\n",
       "      <td>-0.566000</td>\n",
       "      <td>-0.044000</td>\n",
       "      <td>-0.232000</td>\n",
       "      <td>-0.39300</td>\n",
       "      <td>-0.415000</td>\n",
       "      <td>...</td>\n",
       "      <td>-0.001000</td>\n",
       "      <td>0.000000</td>\n",
       "      <td>0.000000</td>\n",
       "      <td>0.000000</td>\n",
       "      <td>-0.250000</td>\n",
       "      <td>-0.001000</td>\n",
       "      <td>0.000000</td>\n",
       "      <td>0.000000</td>\n",
       "      <td>0.000000</td>\n",
       "      <td>0.0</td>\n",
       "    </tr>\n",
       "    <tr>\n",
       "      <th>25%</th>\n",
       "      <td>-0.055000</td>\n",
       "      <td>-0.064000</td>\n",
       "      <td>-0.179000</td>\n",
       "      <td>-0.179000</td>\n",
       "      <td>-0.056000</td>\n",
       "      <td>-0.066000</td>\n",
       "      <td>-0.015000</td>\n",
       "      <td>-0.072000</td>\n",
       "      <td>-0.08200</td>\n",
       "      <td>-0.078000</td>\n",
       "      <td>...</td>\n",
       "      <td>0.000000</td>\n",
       "      <td>0.000000</td>\n",
       "      <td>0.000000</td>\n",
       "      <td>0.000000</td>\n",
       "      <td>-0.250000</td>\n",
       "      <td>0.000000</td>\n",
       "      <td>0.000000</td>\n",
       "      <td>0.000000</td>\n",
       "      <td>0.000000</td>\n",
       "      <td>0.0</td>\n",
       "    </tr>\n",
       "    <tr>\n",
       "      <th>50%</th>\n",
       "      <td>0.003000</td>\n",
       "      <td>0.004000</td>\n",
       "      <td>-0.033000</td>\n",
       "      <td>-0.034000</td>\n",
       "      <td>0.031000</td>\n",
       "      <td>0.070000</td>\n",
       "      <td>0.000000</td>\n",
       "      <td>-0.032000</td>\n",
       "      <td>0.00000</td>\n",
       "      <td>0.002000</td>\n",
       "      <td>...</td>\n",
       "      <td>0.000000</td>\n",
       "      <td>0.000000</td>\n",
       "      <td>0.000000</td>\n",
       "      <td>0.000000</td>\n",
       "      <td>0.250000</td>\n",
       "      <td>0.000000</td>\n",
       "      <td>0.000000</td>\n",
       "      <td>0.000000</td>\n",
       "      <td>0.000000</td>\n",
       "      <td>0.0</td>\n",
       "    </tr>\n",
       "    <tr>\n",
       "      <th>75%</th>\n",
       "      <td>0.056000</td>\n",
       "      <td>0.063000</td>\n",
       "      <td>0.294000</td>\n",
       "      <td>0.294000</td>\n",
       "      <td>0.074000</td>\n",
       "      <td>0.116000</td>\n",
       "      <td>0.015000</td>\n",
       "      <td>0.088000</td>\n",
       "      <td>0.07600</td>\n",
       "      <td>0.077000</td>\n",
       "      <td>...</td>\n",
       "      <td>0.000000</td>\n",
       "      <td>0.000000</td>\n",
       "      <td>0.000000</td>\n",
       "      <td>0.000000</td>\n",
       "      <td>0.250000</td>\n",
       "      <td>0.000000</td>\n",
       "      <td>0.000000</td>\n",
       "      <td>0.000000</td>\n",
       "      <td>0.000000</td>\n",
       "      <td>0.0</td>\n",
       "    </tr>\n",
       "    <tr>\n",
       "      <th>max</th>\n",
       "      <td>0.278000</td>\n",
       "      <td>0.280000</td>\n",
       "      <td>0.567000</td>\n",
       "      <td>0.566000</td>\n",
       "      <td>0.422000</td>\n",
       "      <td>0.388000</td>\n",
       "      <td>0.096000</td>\n",
       "      <td>0.528000</td>\n",
       "      <td>0.46900</td>\n",
       "      <td>0.537000</td>\n",
       "      <td>...</td>\n",
       "      <td>0.000000</td>\n",
       "      <td>0.009000</td>\n",
       "      <td>0.900000</td>\n",
       "      <td>0.045000</td>\n",
       "      <td>0.250000</td>\n",
       "      <td>0.000000</td>\n",
       "      <td>1.000000</td>\n",
       "      <td>0.441000</td>\n",
       "      <td>0.046000</td>\n",
       "      <td>0.0</td>\n",
       "    </tr>\n",
       "  </tbody>\n",
       "</table>\n",
       "<p>8 rows × 969 columns</p>\n",
       "</div>"
      ],
      "text/plain": [
       "           L0_S0_F0      L0_S0_F2      L0_S0_F4      L0_S0_F6      L0_S0_F8  \\\n",
       "count  57625.000000  57625.000000  57625.000000  57625.000000  57625.000000   \n",
       "mean      -0.001844     -0.002575      0.000018     -0.000017      0.001013   \n",
       "std        0.080422      0.093156      0.211186      0.211341      0.093139   \n",
       "min       -0.402000     -0.474000     -0.397000     -0.416000     -0.404000   \n",
       "25%       -0.055000     -0.064000     -0.179000     -0.179000     -0.056000   \n",
       "50%        0.003000      0.004000     -0.033000     -0.034000      0.031000   \n",
       "75%        0.056000      0.063000      0.294000      0.294000      0.074000   \n",
       "max        0.278000      0.280000      0.567000      0.566000      0.422000   \n",
       "\n",
       "          L0_S0_F10     L0_S0_F12     L0_S0_F14    L0_S0_F16     L0_S0_F18  \\\n",
       "count  57625.000000  57625.000000  57625.000000  57625.00000  57625.000000   \n",
       "mean       0.003915      0.000341      0.002141     -0.00143     -0.000926   \n",
       "std        0.161735      0.019368      0.104159      0.11544      0.113331   \n",
       "min       -0.566000     -0.044000     -0.232000     -0.39300     -0.415000   \n",
       "25%       -0.066000     -0.015000     -0.072000     -0.08200     -0.078000   \n",
       "50%        0.070000      0.000000     -0.032000      0.00000      0.002000   \n",
       "75%        0.116000      0.015000      0.088000      0.07600      0.077000   \n",
       "max        0.388000      0.096000      0.528000      0.46900      0.537000   \n",
       "\n",
       "         ...     L3_S50_F4245  L3_S50_F4247  L3_S50_F4249  L3_S50_F4251  \\\n",
       "count    ...      2650.000000   2650.000000   2650.000000   2650.000000   \n",
       "mean     ...        -0.000003      0.000014      0.000471      0.000154   \n",
       "std      ...         0.000055      0.000248      0.017925      0.001880   \n",
       "min      ...        -0.001000      0.000000      0.000000      0.000000   \n",
       "25%      ...         0.000000      0.000000      0.000000      0.000000   \n",
       "50%      ...         0.000000      0.000000      0.000000      0.000000   \n",
       "75%      ...         0.000000      0.000000      0.000000      0.000000   \n",
       "max      ...         0.000000      0.009000      0.900000      0.045000   \n",
       "\n",
       "       L3_S50_F4253  L3_S51_F4256  L3_S51_F4258  L3_S51_F4260  L3_S51_F4262  \\\n",
       "count   2650.000000   5171.000000   5171.000000   5171.000000   5171.000000   \n",
       "mean       0.002264     -0.000009      0.000392      0.000490      0.000064   \n",
       "std        0.250037      0.000094      0.019665      0.012083      0.001178   \n",
       "min       -0.250000     -0.001000      0.000000      0.000000      0.000000   \n",
       "25%       -0.250000      0.000000      0.000000      0.000000      0.000000   \n",
       "50%        0.250000      0.000000      0.000000      0.000000      0.000000   \n",
       "75%        0.250000      0.000000      0.000000      0.000000      0.000000   \n",
       "max        0.250000      0.000000      1.000000      0.441000      0.046000   \n",
       "\n",
       "       Response  \n",
       "count   99432.0  \n",
       "mean        0.0  \n",
       "std         0.0  \n",
       "min         0.0  \n",
       "25%         0.0  \n",
       "50%         0.0  \n",
       "75%         0.0  \n",
       "max         0.0  \n",
       "\n",
       "[8 rows x 969 columns]"
      ]
     },
     "execution_count": 11,
     "metadata": {},
     "output_type": "execute_result"
    }
   ],
   "source": [
    "ok.describe()"
   ]
  },
  {
   "cell_type": "markdown",
   "metadata": {},
   "source": [
    "多少の傾向はある気がするが、fail側のデータが少ないので何とも言えず。"
   ]
  },
  {
   "cell_type": "markdown",
   "metadata": {},
   "source": [
    "## 不良品の出現パターン\n",
    "1つ目は単純なrolling-mean。2つ目はお互いの平均区間が重複しないように間引いているもの。\n",
    "2つ目がランダムウォークっぽいかどうか見たかったが、これは微妙そう。（本当は単位根検定にかける所なんだろうか？）"
   ]
  },
  {
   "cell_type": "code",
   "execution_count": 12,
   "metadata": {},
   "outputs": [
    {
     "data": {
      "image/png": "[encoded data removed]",
      "text/plain": [
       "<matplotlib.figure.Figure at 0x1cb34091c50>"
      ]
     },
     "metadata": {},
     "output_type": "display_data"
    }
   ],
   "source": [
    "sample_freq = 3000\n",
    "\n",
    "mean_response = df_num[['Response']].rolling(sample_freq).mean().reset_index(drop=True)\n",
    "plt.plot(mean_response)\n",
    "plt.ylabel('mean response')\n",
    "plt.show()"
   ]
  },
  {
   "cell_type": "code",
   "execution_count": 13,
   "metadata": {},
   "outputs": [
    {
     "data": {
      "image/png": "[encoded data removed]",
      "text/plain": [
       "<matplotlib.figure.Figure at 0x1cb3413f588>"
      ]
     },
     "metadata": {},
     "output_type": "display_data"
    }
   ],
   "source": [
    "plt.plot(mean_response.iloc[[i*sample_freq for i in range(df_num.shape[0]//sample_freq)]])\n",
    "plt.ylabel('mean response')\n",
    "plt.show()"
   ]
  },
  {
   "cell_type": "markdown",
   "metadata": {},
   "source": [
    "続いて、「不良は連続して起きる」仮説を検証してみる。"
   ]
  },
  {
   "cell_type": "code",
   "execution_count": 14,
   "metadata": {},
   "outputs": [
    {
     "name": "stderr",
     "output_type": "stream",
     "text": [
      "C:\\Users\\noumi\\AppData\\Local\\conda\\conda\\envs\\tensorflow\\lib\\site-packages\\ipykernel_launcher.py:2: SettingWithCopyWarning: \n",
      "A value is trying to be set on a copy of a slice from a DataFrame.\n",
      "Try using .loc[row_indexer,col_indexer] = value instead\n",
      "\n",
      "See the caveats in the documentation: http://pandas.pydata.org/pandas-docs/stable/indexing.html#indexing-view-versus-copy\n",
      "  \n"
     ]
    },
    {
     "data": {
      "text/html": [
       "<div>\n",
       "<style scoped>\n",
       "    .dataframe tbody tr th:only-of-type {\n",
       "        vertical-align: middle;\n",
       "    }\n",
       "\n",
       "    .dataframe tbody tr th {\n",
       "        vertical-align: top;\n",
       "    }\n",
       "\n",
       "    .dataframe thead th {\n",
       "        text-align: right;\n",
       "    }\n",
       "</style>\n",
       "<table border=\"1\" class=\"dataframe\">\n",
       "  <thead>\n",
       "    <tr style=\"text-align: right;\">\n",
       "      <th></th>\n",
       "      <th>index</th>\n",
       "      <th>diff</th>\n",
       "    </tr>\n",
       "  </thead>\n",
       "  <tbody>\n",
       "    <tr>\n",
       "      <th>0</th>\n",
       "      <td>1.0</td>\n",
       "      <td>22</td>\n",
       "    </tr>\n",
       "    <tr>\n",
       "      <th>1</th>\n",
       "      <td>57.0</td>\n",
       "      <td>5</td>\n",
       "    </tr>\n",
       "    <tr>\n",
       "      <th>2</th>\n",
       "      <td>96.0</td>\n",
       "      <td>4</td>\n",
       "    </tr>\n",
       "    <tr>\n",
       "      <th>3</th>\n",
       "      <td>140.0</td>\n",
       "      <td>4</td>\n",
       "    </tr>\n",
       "    <tr>\n",
       "      <th>4</th>\n",
       "      <td>35.0</td>\n",
       "      <td>4</td>\n",
       "    </tr>\n",
       "    <tr>\n",
       "      <th>5</th>\n",
       "      <td>59.0</td>\n",
       "      <td>4</td>\n",
       "    </tr>\n",
       "    <tr>\n",
       "      <th>6</th>\n",
       "      <td>454.0</td>\n",
       "      <td>4</td>\n",
       "    </tr>\n",
       "    <tr>\n",
       "      <th>7</th>\n",
       "      <td>104.0</td>\n",
       "      <td>3</td>\n",
       "    </tr>\n",
       "    <tr>\n",
       "      <th>8</th>\n",
       "      <td>108.0</td>\n",
       "      <td>3</td>\n",
       "    </tr>\n",
       "    <tr>\n",
       "      <th>9</th>\n",
       "      <td>329.0</td>\n",
       "      <td>3</td>\n",
       "    </tr>\n",
       "    <tr>\n",
       "      <th>10</th>\n",
       "      <td>14.0</td>\n",
       "      <td>3</td>\n",
       "    </tr>\n",
       "    <tr>\n",
       "      <th>11</th>\n",
       "      <td>13.0</td>\n",
       "      <td>3</td>\n",
       "    </tr>\n",
       "    <tr>\n",
       "      <th>12</th>\n",
       "      <td>32.0</td>\n",
       "      <td>3</td>\n",
       "    </tr>\n",
       "    <tr>\n",
       "      <th>13</th>\n",
       "      <td>6.0</td>\n",
       "      <td>3</td>\n",
       "    </tr>\n",
       "    <tr>\n",
       "      <th>14</th>\n",
       "      <td>86.0</td>\n",
       "      <td>3</td>\n",
       "    </tr>\n",
       "    <tr>\n",
       "      <th>15</th>\n",
       "      <td>47.0</td>\n",
       "      <td>3</td>\n",
       "    </tr>\n",
       "    <tr>\n",
       "      <th>16</th>\n",
       "      <td>43.0</td>\n",
       "      <td>3</td>\n",
       "    </tr>\n",
       "    <tr>\n",
       "      <th>17</th>\n",
       "      <td>311.0</td>\n",
       "      <td>3</td>\n",
       "    </tr>\n",
       "    <tr>\n",
       "      <th>18</th>\n",
       "      <td>548.0</td>\n",
       "      <td>3</td>\n",
       "    </tr>\n",
       "    <tr>\n",
       "      <th>19</th>\n",
       "      <td>61.0</td>\n",
       "      <td>3</td>\n",
       "    </tr>\n",
       "  </tbody>\n",
       "</table>\n",
       "</div>"
      ],
      "text/plain": [
       "    index  diff\n",
       "0     1.0    22\n",
       "1    57.0     5\n",
       "2    96.0     4\n",
       "3   140.0     4\n",
       "4    35.0     4\n",
       "5    59.0     4\n",
       "6   454.0     4\n",
       "7   104.0     3\n",
       "8   108.0     3\n",
       "9   329.0     3\n",
       "10   14.0     3\n",
       "11   13.0     3\n",
       "12   32.0     3\n",
       "13    6.0     3\n",
       "14   86.0     3\n",
       "15   47.0     3\n",
       "16   43.0     3\n",
       "17  311.0     3\n",
       "18  548.0     3\n",
       "19   61.0     3"
      ]
     },
     "execution_count": 14,
     "metadata": {},
     "output_type": "execute_result"
    }
   ],
   "source": [
    "fail.reset_index(inplace=True)\n",
    "fail['diff'] = fail['Id'] - fail['Id'].shift(1) # 次のNGまでのIdの差\n",
    "fail['diff'].value_counts().reset_index().head(20)"
   ]
  },
  {
   "cell_type": "markdown",
   "metadata": {},
   "source": [
    "diff == 1、つまり連続して発生しているパターンが多い。行ごとに独立な試行の結果だとすると、diff==2や3も上位に来るはず（ポアソン分布？）だがそうなっていない事、そもそも不良が全体の0.5%しか無いことから考えると、**明らかに「続けて失敗する可能性が高い」ことは言えそう**。"
   ]
  },
  {
   "cell_type": "markdown",
   "metadata": {},
   "source": [
    "## 特徴量への組み込み\n",
    "「直前の行で失敗していたかどうか」を表す特徴を作ってみる。train/testをくっつけてIdでソート。"
   ]
  },
  {
   "cell_type": "code",
   "execution_count": 15,
   "metadata": {},
   "outputs": [
    {
     "data": {
      "text/plain": [
       "False    2360616\n",
       "True        6879\n",
       "Name: prev_failed, dtype: int64"
      ]
     },
     "execution_count": 15,
     "metadata": {},
     "output_type": "execute_result"
    }
   ],
   "source": [
    "df_id_all = pd.concat([pd.read_csv('../input/train_numeric.csv', usecols=[0,969]), \n",
    "                       pd.read_csv('../input/test_numeric.csv', usecols=[0])])\n",
    "df_id_all.sort_values(by='Id', inplace=True)\n",
    "\n",
    "df_id_all['prev_failed'] = df_id_all.Response.shift(1) == 1.0\n",
    "df_id_all.prev_failed.value_counts()"
   ]
  },
  {
   "cell_type": "code",
   "execution_count": 16,
   "metadata": {},
   "outputs": [
    {
     "name": "stdout",
     "output_type": "stream",
     "text": [
      "0.10081823495032145\n",
      "0.00553576345498062\n"
     ]
    }
   ],
   "source": [
    "print(df_id_all[df_id_all.prev_failed == 1].Response.mean())\n",
    "print(df_id_all[df_id_all.prev_failed == 0].Response.mean())"
   ]
  },
  {
   "cell_type": "markdown",
   "metadata": {},
   "source": [
    "全体では0.5%程度しか失敗が無いのに、直前が失敗している場合は10％程度NGになる！これはかなり強力な特徴。"
   ]
  },
  {
   "cell_type": "code",
   "execution_count": 17,
   "metadata": {},
   "outputs": [],
   "source": [
    "df_id_all.reset_index(drop=True, inplace=True)\n",
    "df_id_all[['Id','prev_failed']].to_feather('prev_failed.f') # 要pip install -U feather-format"
   ]
  },
  {
   "cell_type": "markdown",
   "metadata": {},
   "source": [
    "## データ内容の一致\n",
    "CSVで眺めていると、連番で失敗しているものは各列の値まで一致しているっぽい。\n",
    "列の値が一致しているかどうかを特徴に加えてみる（ここでは近似的に、行方向のsumが一致しているかどうかで判断）"
   ]
  },
  {
   "cell_type": "code",
   "execution_count": 18,
   "metadata": {},
   "outputs": [],
   "source": [
    "sum_num = df_num.drop('Response',axis=1).sum(axis=1).reset_index()\n",
    "sum_num.columns = ['Id','mean_num']"
   ]
  },
  {
   "cell_type": "code",
   "execution_count": 64,
   "metadata": {},
   "outputs": [],
   "source": [
    "tmp = pd.merge(df_num.reset_index(), sum_num, on='Id', how='left')\n",
    "tmp['mean_num_diff_n'] = tmp['mean_num'] - tmp['mean_num'].shift(-b1)\n",
    "tmp['next_failed'] = tmp['Response'].shift(-1) == 1.0"
   ]
  },
  {
   "cell_type": "markdown",
   "metadata": {},
   "source": [
    "列が一致しただけだと5%の不良率（それでも平均の１０倍！）"
   ]
  },
  {
   "cell_type": "code",
   "execution_count": 65,
   "metadata": {},
   "outputs": [
    {
     "data": {
      "text/plain": [
       "0.05124521072796935"
      ]
     },
     "execution_count": 65,
     "metadata": {},
     "output_type": "execute_result"
    }
   ],
   "source": [
    "tmp[tmp.mean_num_diff_n==0.0].Response.mean()"
   ]
  },
  {
   "cell_type": "code",
   "execution_count": 66,
   "metadata": {},
   "outputs": [
    {
     "data": {
      "text/plain": [
       "0.045774647887323945"
      ]
     },
     "execution_count": 66,
     "metadata": {},
     "output_type": "execute_result"
    }
   ],
   "source": [
    "tmp[tmp.next_failed == True].Response.mean()"
   ]
  },
  {
   "cell_type": "markdown",
   "metadata": {},
   "source": [
    "先ほどの特徴と組み合わせると、何と**該当する92％が不良**となる"
   ]
  },
  {
   "cell_type": "code",
   "execution_count": 68,
   "metadata": {},
   "outputs": [
    {
     "data": {
      "text/plain": [
       "0.92"
      ]
     },
     "execution_count": 68,
     "metadata": {},
     "output_type": "execute_result"
    }
   ],
   "source": [
    "tmp[(tmp.next_failed == True) & (tmp.mean_num_diff_n == 0.0)].Response.mean()"
   ]
  },
  {
   "cell_type": "markdown",
   "metadata": {},
   "source": [
    "この特徴を全データに対して計算しておく"
   ]
  },
  {
   "cell_type": "code",
   "execution_count": 19,
   "metadata": {},
   "outputs": [
    {
     "name": "stdout",
     "output_type": "stream",
     "text": [
      "train\n",
      "test\n"
     ]
    }
   ],
   "source": [
    "print('train')\n",
    "num_chunks = pd.read_csv(\"../input/train_numeric.csv\", index_col=0,\n",
    "                         usecols=list(range(969)), chunksize=100000, dtype=np.float32)\n",
    "\n",
    "sum_train = pd.concat([nchunk.sum(axis=1).reset_index() for nchunk in num_chunks])\n",
    "print('test')\n",
    "num_chunks = pd.read_csv(\"../input/test_numeric.csv\", index_col=0,\n",
    "                         usecols=list(range(969)), chunksize=100000, dtype=np.float32)\n",
    "\n",
    "sum_test = pd.concat([nchunk.sum(axis=1).reset_index() for nchunk in num_chunks])\n",
    "\n",
    "sum_all = pd.concat([sum_train,sum_test])"
   ]
  },
  {
   "cell_type": "code",
   "execution_count": 24,
   "metadata": {},
   "outputs": [],
   "source": [
    "sum_all.columns = ['Id', 'mean_num']\n",
    "sum_all.reset_index(drop=True).to_feather('mean_num.f')"
   ]
  },
  {
   "cell_type": "code",
   "execution_count": 72,
   "metadata": {},
   "outputs": [
    {
     "data": {
      "text/html": [
       "<div>\n",
       "<style scoped>\n",
       "    .dataframe tbody tr th:only-of-type {\n",
       "        vertical-align: middle;\n",
       "    }\n",
       "\n",
       "    .dataframe tbody tr th {\n",
       "        vertical-align: top;\n",
       "    }\n",
       "\n",
       "    .dataframe thead th {\n",
       "        text-align: right;\n",
       "    }\n",
       "</style>\n",
       "<table border=\"1\" class=\"dataframe\">\n",
       "  <thead>\n",
       "    <tr style=\"text-align: right;\">\n",
       "      <th></th>\n",
       "      <th>Id</th>\n",
       "      <th>0</th>\n",
       "    </tr>\n",
       "  </thead>\n",
       "  <tbody>\n",
       "    <tr>\n",
       "      <th>0</th>\n",
       "      <td>1.0</td>\n",
       "      <td>-1.366</td>\n",
       "    </tr>\n",
       "    <tr>\n",
       "      <th>1</th>\n",
       "      <td>2.0</td>\n",
       "      <td>-3.401</td>\n",
       "    </tr>\n",
       "    <tr>\n",
       "      <th>2</th>\n",
       "      <td>3.0</td>\n",
       "      <td>3.215</td>\n",
       "    </tr>\n",
       "    <tr>\n",
       "      <th>0</th>\n",
       "      <td>4.0</td>\n",
       "      <td>-3.215</td>\n",
       "    </tr>\n",
       "    <tr>\n",
       "      <th>3</th>\n",
       "      <td>5.0</td>\n",
       "      <td>-1.776</td>\n",
       "    </tr>\n",
       "  </tbody>\n",
       "</table>\n",
       "</div>"
      ],
      "text/plain": [
       "    Id      0\n",
       "0  1.0 -1.366\n",
       "1  2.0 -3.401\n",
       "2  3.0  3.215\n",
       "0  4.0 -3.215\n",
       "3  5.0 -1.776"
      ]
     },
     "execution_count": 72,
     "metadata": {},
     "output_type": "execute_result"
    }
   ],
   "source": [
    "sum_all.sort_values(by='Id', inplace=True)"
   ]
  },
  {
   "cell_type": "code",
   "execution_count": 86,
   "metadata": {},
   "outputs": [
    {
     "data": {
      "text/html": [
       "<div>\n",
       "<style scoped>\n",
       "    .dataframe tbody tr th:only-of-type {\n",
       "        vertical-align: middle;\n",
       "    }\n",
       "\n",
       "    .dataframe tbody tr th {\n",
       "        vertical-align: top;\n",
       "    }\n",
       "\n",
       "    .dataframe thead th {\n",
       "        text-align: right;\n",
       "    }\n",
       "</style>\n",
       "<table border=\"1\" class=\"dataframe\">\n",
       "  <thead>\n",
       "    <tr style=\"text-align: right;\">\n",
       "      <th></th>\n",
       "      <th>Id</th>\n",
       "      <th>mean_num</th>\n",
       "      <th>mean_diff_p1</th>\n",
       "      <th>mean_diff_m1</th>\n",
       "      <th>same_to_prev</th>\n",
       "      <th>same_to_next</th>\n",
       "    </tr>\n",
       "  </thead>\n",
       "  <tbody>\n",
       "    <tr>\n",
       "      <th>0</th>\n",
       "      <td>1.0</td>\n",
       "      <td>-1.366</td>\n",
       "      <td>NaN</td>\n",
       "      <td>2.035000</td>\n",
       "      <td>False</td>\n",
       "      <td>False</td>\n",
       "    </tr>\n",
       "    <tr>\n",
       "      <th>1</th>\n",
       "      <td>2.0</td>\n",
       "      <td>-3.401</td>\n",
       "      <td>-2.035000</td>\n",
       "      <td>-6.615999</td>\n",
       "      <td>False</td>\n",
       "      <td>False</td>\n",
       "    </tr>\n",
       "    <tr>\n",
       "      <th>2</th>\n",
       "      <td>3.0</td>\n",
       "      <td>3.215</td>\n",
       "      <td>6.615999</td>\n",
       "      <td>6.430000</td>\n",
       "      <td>False</td>\n",
       "      <td>False</td>\n",
       "    </tr>\n",
       "    <tr>\n",
       "      <th>0</th>\n",
       "      <td>4.0</td>\n",
       "      <td>-3.215</td>\n",
       "      <td>-6.430000</td>\n",
       "      <td>-1.439000</td>\n",
       "      <td>False</td>\n",
       "      <td>False</td>\n",
       "    </tr>\n",
       "    <tr>\n",
       "      <th>3</th>\n",
       "      <td>5.0</td>\n",
       "      <td>-1.776</td>\n",
       "      <td>1.439000</td>\n",
       "      <td>-2.227000</td>\n",
       "      <td>False</td>\n",
       "      <td>False</td>\n",
       "    </tr>\n",
       "  </tbody>\n",
       "</table>\n",
       "</div>"
      ],
      "text/plain": [
       "    Id  mean_num  mean_diff_p1  mean_diff_m1  same_to_prev  same_to_next\n",
       "0  1.0    -1.366           NaN      2.035000         False         False\n",
       "1  2.0    -3.401     -2.035000     -6.615999         False         False\n",
       "2  3.0     3.215      6.615999      6.430000         False         False\n",
       "0  4.0    -3.215     -6.430000     -1.439000         False         False\n",
       "3  5.0    -1.776      1.439000     -2.227000         False         False"
      ]
     },
     "execution_count": 86,
     "metadata": {},
     "output_type": "execute_result"
    }
   ],
   "source": [
    "sum_all['same_to_prev'] = (sum_all['mean_num'] - sum_all['mean_num'].shift(1)) == 0.0\n",
    "sum_all['same_to_next'] = (sum_all['mean_num'] - sum_all['mean_num'].shift(-1)) == 0.0\n",
    "sum_all.head()"
   ]
  },
  {
   "cell_type": "code",
   "execution_count": 83,
   "metadata": {},
   "outputs": [],
   "source": [
    "df_id_all = pd.concat([pd.read_csv('../input/train_numeric.csv', usecols=[0,969]), \n",
    "                       pd.read_csv('../input/test_numeric.csv', usecols=[0])])\n",
    "df_id_all.sort_values(by='Id', inplace=True)\n",
    "\n",
    "df_id_all['prev_failed'] = df_id_all.Response.shift(1) == 1.0\n",
    "df_id_all['next_failed'] = df_id_all.Response.shift(-1) == 1.0"
   ]
  },
  {
   "cell_type": "code",
   "execution_count": 87,
   "metadata": {},
   "outputs": [],
   "source": [
    "df_id_all = pd.merge(df_id_all, sum_all, on='Id', how='left')"
   ]
  },
  {
   "cell_type": "code",
   "execution_count": 90,
   "metadata": {},
   "outputs": [
    {
     "data": {
      "text/plain": [
       "0.25234375"
      ]
     },
     "execution_count": 90,
     "metadata": {},
     "output_type": "execute_result"
    }
   ],
   "source": [
    "df_id_all[(df_id_all.prev_failed)&(df_id_all.same_to_prev)].Response.mean()"
   ]
  },
  {
   "cell_type": "code",
   "execution_count": 91,
   "metadata": {},
   "outputs": [
    {
     "data": {
      "text/plain": [
       "0.8636363636363636"
      ]
     },
     "execution_count": 91,
     "metadata": {},
     "output_type": "execute_result"
    }
   ],
   "source": [
    "df_id_all[(df_id_all.next_failed)&(df_id_all.same_to_next)].Response.mean()"
   ]
  },
  {
   "cell_type": "code",
   "execution_count": 93,
   "metadata": {},
   "outputs": [],
   "source": [
    "df_id_all.drop('Response', axis=1).to_feather('same_to_next_or_prev.f')"
   ]
  },
  {
   "cell_type": "markdown",
   "metadata": {},
   "source": [
    "## 時間順にソート\n",
    "ここまででId順での連番を見ていたが、ライン通過順に並び替えて同じことをやってみる"
   ]
  },
  {
   "cell_type": "code",
   "execution_count": 25,
   "metadata": {},
   "outputs": [
    {
     "data": {
      "text/html": [
       "<div>\n",
       "<style scoped>\n",
       "    .dataframe tbody tr th:only-of-type {\n",
       "        vertical-align: middle;\n",
       "    }\n",
       "\n",
       "    .dataframe tbody tr th {\n",
       "        vertical-align: top;\n",
       "    }\n",
       "\n",
       "    .dataframe thead th {\n",
       "        text-align: right;\n",
       "    }\n",
       "</style>\n",
       "<table border=\"1\" class=\"dataframe\">\n",
       "  <thead>\n",
       "    <tr style=\"text-align: right;\">\n",
       "      <th></th>\n",
       "      <th>Id</th>\n",
       "      <th>mean_num</th>\n",
       "    </tr>\n",
       "  </thead>\n",
       "  <tbody>\n",
       "    <tr>\n",
       "      <th>0</th>\n",
       "      <td>4.0</td>\n",
       "      <td>-3.215</td>\n",
       "    </tr>\n",
       "    <tr>\n",
       "      <th>1</th>\n",
       "      <td>6.0</td>\n",
       "      <td>0.451</td>\n",
       "    </tr>\n",
       "    <tr>\n",
       "      <th>2</th>\n",
       "      <td>7.0</td>\n",
       "      <td>-0.130</td>\n",
       "    </tr>\n",
       "    <tr>\n",
       "      <th>3</th>\n",
       "      <td>9.0</td>\n",
       "      <td>-0.123</td>\n",
       "    </tr>\n",
       "    <tr>\n",
       "      <th>4</th>\n",
       "      <td>11.0</td>\n",
       "      <td>-1.453</td>\n",
       "    </tr>\n",
       "  </tbody>\n",
       "</table>\n",
       "</div>"
      ],
      "text/plain": [
       "     Id  mean_num\n",
       "0   4.0    -3.215\n",
       "1   6.0     0.451\n",
       "2   7.0    -0.130\n",
       "3   9.0    -0.123\n",
       "4  11.0    -1.453"
      ]
     },
     "execution_count": 25,
     "metadata": {},
     "output_type": "execute_result"
    }
   ],
   "source": [
    "sum_all.head()"
   ]
  },
  {
   "cell_type": "code",
   "execution_count": 26,
   "metadata": {},
   "outputs": [],
   "source": [
    "y = pd.read_feather('y.f')\n",
    "min_time = pd.read_feather('mintime.f')"
   ]
  },
  {
   "cell_type": "code",
   "execution_count": 32,
   "metadata": {},
   "outputs": [],
   "source": [
    "sum_all['Response'] = y['Response']\n",
    "sum_all['min_time'] = min_time['min_time']"
   ]
  },
  {
   "cell_type": "code",
   "execution_count": 41,
   "metadata": {},
   "outputs": [
    {
     "data": {
      "text/html": [
       "<div>\n",
       "<style scoped>\n",
       "    .dataframe tbody tr th:only-of-type {\n",
       "        vertical-align: middle;\n",
       "    }\n",
       "\n",
       "    .dataframe tbody tr th {\n",
       "        vertical-align: top;\n",
       "    }\n",
       "\n",
       "    .dataframe thead th {\n",
       "        text-align: right;\n",
       "    }\n",
       "</style>\n",
       "<table border=\"1\" class=\"dataframe\">\n",
       "  <thead>\n",
       "    <tr style=\"text-align: right;\">\n",
       "      <th></th>\n",
       "      <th>index</th>\n",
       "      <th>Id</th>\n",
       "      <th>mean_num</th>\n",
       "      <th>Response</th>\n",
       "      <th>min_time</th>\n",
       "    </tr>\n",
       "  </thead>\n",
       "  <tbody>\n",
       "    <tr>\n",
       "      <th>0</th>\n",
       "      <td>0</td>\n",
       "      <td>4.0</td>\n",
       "      <td>-3.215</td>\n",
       "      <td>0.0</td>\n",
       "      <td>82.239998</td>\n",
       "    </tr>\n",
       "    <tr>\n",
       "      <th>1</th>\n",
       "      <td>1</td>\n",
       "      <td>6.0</td>\n",
       "      <td>0.451</td>\n",
       "      <td>0.0</td>\n",
       "      <td>1313.119995</td>\n",
       "    </tr>\n",
       "    <tr>\n",
       "      <th>2</th>\n",
       "      <td>2</td>\n",
       "      <td>7.0</td>\n",
       "      <td>-0.130</td>\n",
       "      <td>0.0</td>\n",
       "      <td>1618.699951</td>\n",
       "    </tr>\n",
       "    <tr>\n",
       "      <th>3</th>\n",
       "      <td>3</td>\n",
       "      <td>9.0</td>\n",
       "      <td>-0.123</td>\n",
       "      <td>0.0</td>\n",
       "      <td>1149.199951</td>\n",
       "    </tr>\n",
       "    <tr>\n",
       "      <th>4</th>\n",
       "      <td>4</td>\n",
       "      <td>11.0</td>\n",
       "      <td>-1.453</td>\n",
       "      <td>0.0</td>\n",
       "      <td>602.640015</td>\n",
       "    </tr>\n",
       "  </tbody>\n",
       "</table>\n",
       "</div>"
      ],
      "text/plain": [
       "   index    Id  mean_num  Response     min_time\n",
       "0      0   4.0    -3.215       0.0    82.239998\n",
       "1      1   6.0     0.451       0.0  1313.119995\n",
       "2      2   7.0    -0.130       0.0  1618.699951\n",
       "3      3   9.0    -0.123       0.0  1149.199951\n",
       "4      4  11.0    -1.453       0.0   602.640015"
      ]
     },
     "execution_count": 41,
     "metadata": {},
     "output_type": "execute_result"
    }
   ],
   "source": [
    "sum_all.head()"
   ]
  },
  {
   "cell_type": "code",
   "execution_count": 43,
   "metadata": {},
   "outputs": [
    {
     "data": {
      "text/html": [
       "<div>\n",
       "<style scoped>\n",
       "    .dataframe tbody tr th:only-of-type {\n",
       "        vertical-align: middle;\n",
       "    }\n",
       "\n",
       "    .dataframe tbody tr th {\n",
       "        vertical-align: top;\n",
       "    }\n",
       "\n",
       "    .dataframe thead th {\n",
       "        text-align: right;\n",
       "    }\n",
       "</style>\n",
       "<table border=\"1\" class=\"dataframe\">\n",
       "  <thead>\n",
       "    <tr style=\"text-align: right;\">\n",
       "      <th></th>\n",
       "      <th>index</th>\n",
       "      <th>Id</th>\n",
       "      <th>mean_num</th>\n",
       "      <th>Response</th>\n",
       "      <th>min_time</th>\n",
       "    </tr>\n",
       "  </thead>\n",
       "  <tbody>\n",
       "    <tr>\n",
       "      <th>1237785</th>\n",
       "      <td>1237785</td>\n",
       "      <td>107945.0</td>\n",
       "      <td>1.094</td>\n",
       "      <td>0.0</td>\n",
       "      <td>0.01</td>\n",
       "    </tr>\n",
       "    <tr>\n",
       "      <th>54038</th>\n",
       "      <td>54038</td>\n",
       "      <td>108193.0</td>\n",
       "      <td>0.646</td>\n",
       "      <td>0.0</td>\n",
       "      <td>0.01</td>\n",
       "    </tr>\n",
       "    <tr>\n",
       "      <th>154038</th>\n",
       "      <td>154038</td>\n",
       "      <td>307958.0</td>\n",
       "      <td>-0.188</td>\n",
       "      <td>0.0</td>\n",
       "      <td>0.01</td>\n",
       "    </tr>\n",
       "    <tr>\n",
       "      <th>1337785</th>\n",
       "      <td>1337785</td>\n",
       "      <td>308186.0</td>\n",
       "      <td>-0.574</td>\n",
       "      <td>0.0</td>\n",
       "      <td>0.01</td>\n",
       "    </tr>\n",
       "    <tr>\n",
       "      <th>1437785</th>\n",
       "      <td>1437785</td>\n",
       "      <td>507904.0</td>\n",
       "      <td>-3.639</td>\n",
       "      <td>0.0</td>\n",
       "      <td>0.01</td>\n",
       "    </tr>\n",
       "  </tbody>\n",
       "</table>\n",
       "</div>"
      ],
      "text/plain": [
       "           index        Id  mean_num  Response  min_time\n",
       "1237785  1237785  107945.0     1.094       0.0      0.01\n",
       "54038      54038  108193.0     0.646       0.0      0.01\n",
       "154038    154038  307958.0    -0.188       0.0      0.01\n",
       "1337785  1337785  308186.0    -0.574       0.0      0.01\n",
       "1437785  1437785  507904.0    -3.639       0.0      0.01"
      ]
     },
     "execution_count": 43,
     "metadata": {},
     "output_type": "execute_result"
    }
   ],
   "source": [
    "sum_all.sort_values(by=['min_time','Id'],inplace=True)\n",
    "sum_all.head()"
   ]
  },
  {
   "cell_type": "code",
   "execution_count": 45,
   "metadata": {},
   "outputs": [],
   "source": [
    "sum_all['prev_failed_t'] = sum_all.Response.shift(1) == 1.0\n",
    "sum_all['next_failed_t'] = sum_all.Response.shift(-1) == 1.0"
   ]
  },
  {
   "cell_type": "code",
   "execution_count": 50,
   "metadata": {},
   "outputs": [],
   "source": [
    "sum_all['same_to_prev_t'] = (sum_all['mean_num'] - sum_all['mean_num'].shift(1)) == 0.0\n",
    "sum_all['same_to_next_t'] = (sum_all['mean_num'] - sum_all['mean_num'].shift(-1)) == 0.0"
   ]
  },
  {
   "cell_type": "code",
   "execution_count": 51,
   "metadata": {},
   "outputs": [
    {
     "data": {
      "text/plain": [
       "0.17289719"
      ]
     },
     "execution_count": 51,
     "metadata": {},
     "output_type": "execute_result"
    }
   ],
   "source": [
    "sum_all[(sum_all.prev_failed_t)&(sum_all.same_to_prev_t)].Response.mean()"
   ]
  },
  {
   "cell_type": "code",
   "execution_count": 52,
   "metadata": {},
   "outputs": [
    {
     "data": {
      "text/plain": [
       "0.84090906"
      ]
     },
     "execution_count": 52,
     "metadata": {},
     "output_type": "execute_result"
    }
   ],
   "source": [
    "sum_all[(sum_all.next_failed_t)&(sum_all.same_to_next_t)].Response.mean()"
   ]
  },
  {
   "cell_type": "code",
   "execution_count": 54,
   "metadata": {},
   "outputs": [],
   "source": [
    "sum_all[['Id','prev_failed_t','next_failed_t','same_to_prev_t','same_to_next_t']].reset_index().to_feather('same_to_next_or_prev_t.f')"
   ]
  }
 ],
 "metadata": {
  "kernelspec": {
   "display_name": "Python 3",
   "language": "python",
   "name": "python3"
  },
  "language_info": {
   "codemirror_mode": {
    "name": "ipython",
    "version": 3
   },
   "file_extension": ".py",
   "mimetype": "text/x-python",
   "name": "python",
   "nbconvert_exporter": "python",
   "pygments_lexer": "ipython3",
   "version": "3.5.4"
  }
 },
 "nbformat": 4,
 "nbformat_minor": 2
}
